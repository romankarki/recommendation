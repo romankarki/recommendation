{
 "cells": [
  {
   "cell_type": "code",
   "execution_count": 1,
   "metadata": {},
   "outputs": [],
   "source": [
    "#demo dictionary for orders <key,value> : <order_id,product>\n",
    "\"\"\"\n",
    "    orders={\n",
    "    \"order_id\":[\"product1\",\"product2\",...]\n",
    "    }\n",
    "\"\"\"\n",
    "orders ={\n",
    "    \"o1\":[\"a\",\"b\",\"c\"],\n",
    "    \"o2\":[\"d\",\"e\",\"f\"],\n",
    "    \"o3\":[\"a\",\"b\",\"e\"],\n",
    "    \"o4\":[\"f\",\"a\",\"c\",\"g\"],\n",
    "    \"o5\":[\"h\",\"i\"],\n",
    "    \"o6\":[\"j\",\"k\"],\n",
    "    \"o7\":[\"a\",\"k\"],\n",
    "    \"o8\":[\"i\",\"k\"],\n",
    "    \"o9\":[\"l\",\"m\",\"n\"],\n",
    "    \"o10\":[\"a\",\"g\",\"i\",\"m\"],\n",
    "}"
   ]
  },
  {
   "cell_type": "code",
   "execution_count": 2,
   "metadata": {},
   "outputs": [
    {
     "data": {
      "text/plain": [
       "{'o1': ['a', 'b', 'c'],\n",
       " 'o2': ['d', 'e', 'f'],\n",
       " 'o3': ['a', 'b', 'e'],\n",
       " 'o4': ['f', 'a', 'c', 'g'],\n",
       " 'o5': ['h', 'i'],\n",
       " 'o6': ['j', 'k'],\n",
       " 'o7': ['a', 'k'],\n",
       " 'o8': ['i', 'k'],\n",
       " 'o9': ['l', 'm', 'n'],\n",
       " 'o10': ['a', 'g', 'i', 'm']}"
      ]
     },
     "execution_count": 2,
     "metadata": {},
     "output_type": "execute_result"
    }
   ],
   "source": [
    "orders"
   ]
  },
  {
   "cell_type": "code",
   "execution_count": 3,
   "metadata": {},
   "outputs": [],
   "source": [
    "arr_of_keys =[]\n",
    "arr_of_values=[]\n",
    "for key in orders:\n",
    "    arr_of_keys.append(key)\n",
    "    lst =[]\n",
    "    for x in orders[key]:\n",
    "        lst.append(x)\n",
    "    arr_of_values.append(lst)\n",
    "        "
   ]
  },
  {
   "cell_type": "code",
   "execution_count": 4,
   "metadata": {},
   "outputs": [
    {
     "data": {
      "text/plain": [
       "['o1', 'o2', 'o3', 'o4', 'o5', 'o6', 'o7', 'o8', 'o9', 'o10']"
      ]
     },
     "execution_count": 4,
     "metadata": {},
     "output_type": "execute_result"
    }
   ],
   "source": [
    "arr_of_keys"
   ]
  },
  {
   "cell_type": "code",
   "execution_count": 5,
   "metadata": {},
   "outputs": [
    {
     "data": {
      "text/plain": [
       "[['a', 'b', 'c'],\n",
       " ['d', 'e', 'f'],\n",
       " ['a', 'b', 'e'],\n",
       " ['f', 'a', 'c', 'g'],\n",
       " ['h', 'i'],\n",
       " ['j', 'k'],\n",
       " ['a', 'k'],\n",
       " ['i', 'k'],\n",
       " ['l', 'm', 'n'],\n",
       " ['a', 'g', 'i', 'm']]"
      ]
     },
     "execution_count": 5,
     "metadata": {},
     "output_type": "execute_result"
    }
   ],
   "source": [
    "arr_of_values"
   ]
  },
  {
   "cell_type": "code",
   "execution_count": 6,
   "metadata": {},
   "outputs": [],
   "source": [
    "for i in range(0,len(arr_of_values)):\n",
    "    arr_of_values[i].insert(0,arr_of_keys[i])"
   ]
  },
  {
   "cell_type": "code",
   "execution_count": 7,
   "metadata": {},
   "outputs": [
    {
     "data": {
      "text/plain": [
       "[['o1', 'a', 'b', 'c'],\n",
       " ['o2', 'd', 'e', 'f'],\n",
       " ['o3', 'a', 'b', 'e'],\n",
       " ['o4', 'f', 'a', 'c', 'g'],\n",
       " ['o5', 'h', 'i'],\n",
       " ['o6', 'j', 'k'],\n",
       " ['o7', 'a', 'k'],\n",
       " ['o8', 'i', 'k'],\n",
       " ['o9', 'l', 'm', 'n'],\n",
       " ['o10', 'a', 'g', 'i', 'm']]"
      ]
     },
     "execution_count": 7,
     "metadata": {},
     "output_type": "execute_result"
    }
   ],
   "source": [
    "arr_of_values\n"
   ]
  },
  {
   "cell_type": "code",
   "execution_count": 8,
   "metadata": {},
   "outputs": [],
   "source": [
    "pack_sequence=[]"
   ]
  },
  {
   "cell_type": "code",
   "execution_count": 9,
   "metadata": {},
   "outputs": [],
   "source": [
    "def pair_similar(arr_of_values):\n",
    "    for i in arr_of_values:\n",
    "        similar_element =None\n",
    "        similarity_count=0\n",
    "        similar=[]\n",
    "        current_element=i\n",
    "        similar.append(i[0])\n",
    "        arr_of_values.remove(i)\n",
    "        for j in arr_of_values:\n",
    "            current_element_set = set(current_element)\n",
    "            intersection = current_element_set.intersection(j)\n",
    "            intersection_list = list(intersection)\n",
    "            count = len(intersection_list)\n",
    "            if(count > similarity_count):\n",
    "                similarity_count = count\n",
    "                similar_element = j\n",
    "        if(similar_element):\n",
    "            similar.append(similar_element[0])\n",
    "            arr_of_values.remove(similar_element)\n",
    "            print(arr_of_values)\n",
    "\n",
    "        pack_sequence.append(similar)\n",
    "        \n",
    "        \n",
    "    \n",
    "    \n",
    "    \n",
    "    \n",
    "\n",
    "\n"
   ]
  },
  {
   "cell_type": "code",
   "execution_count": 10,
   "metadata": {},
   "outputs": [
    {
     "name": "stdout",
     "output_type": "stream",
     "text": [
      "[['o2', 'd', 'e', 'f'], ['o4', 'f', 'a', 'c', 'g'], ['o5', 'h', 'i'], ['o6', 'j', 'k'], ['o7', 'a', 'k'], ['o8', 'i', 'k'], ['o9', 'l', 'm', 'n'], ['o10', 'a', 'g', 'i', 'm']]\n",
      "[['o2', 'd', 'e', 'f'], ['o5', 'h', 'i'], ['o6', 'j', 'k'], ['o7', 'a', 'k'], ['o8', 'i', 'k'], ['o9', 'l', 'm', 'n']]\n",
      "[['o2', 'd', 'e', 'f'], ['o5', 'h', 'i'], ['o8', 'i', 'k'], ['o9', 'l', 'm', 'n']]\n",
      "[]\n"
     ]
    }
   ],
   "source": [
    "\n",
    "\n",
    "while arr_of_values != []:\n",
    "    \n",
    "    pair_similar(arr_of_values)"
   ]
  },
  {
   "cell_type": "code",
   "execution_count": 11,
   "metadata": {},
   "outputs": [
    {
     "data": {
      "text/plain": [
       "[['o1', 'o3'], ['o4', 'o10'], ['o6', 'o7'], ['o9'], ['o2'], ['o8', 'o5']]"
      ]
     },
     "execution_count": 11,
     "metadata": {},
     "output_type": "execute_result"
    }
   ],
   "source": [
    "pack_sequence"
   ]
  },
  {
   "cell_type": "code",
   "execution_count": 12,
   "metadata": {},
   "outputs": [
    {
     "data": {
      "text/plain": [
       "[]"
      ]
     },
     "execution_count": 12,
     "metadata": {},
     "output_type": "execute_result"
    }
   ],
   "source": [
    "arr_of_values"
   ]
  },
  {
   "cell_type": "code",
   "execution_count": 13,
   "metadata": {},
   "outputs": [
    {
     "data": {
      "text/plain": [
       "{'o1': ['a', 'b', 'c'],\n",
       " 'o2': ['d', 'e', 'f'],\n",
       " 'o3': ['a', 'b', 'e'],\n",
       " 'o4': ['f', 'a', 'c', 'g'],\n",
       " 'o5': ['h', 'i'],\n",
       " 'o6': ['j', 'k'],\n",
       " 'o7': ['a', 'k'],\n",
       " 'o8': ['i', 'k'],\n",
       " 'o9': ['l', 'm', 'n'],\n",
       " 'o10': ['a', 'g', 'i', 'm']}"
      ]
     },
     "execution_count": 13,
     "metadata": {},
     "output_type": "execute_result"
    }
   ],
   "source": [
    "orders"
   ]
  },
  {
   "cell_type": "code",
   "execution_count": null,
   "metadata": {},
   "outputs": [],
   "source": []
  }
 ],
 "metadata": {
  "kernelspec": {
   "display_name": "Python 3",
   "language": "python",
   "name": "python3"
  },
  "language_info": {
   "codemirror_mode": {
    "name": "ipython",
    "version": 3
   },
   "file_extension": ".py",
   "mimetype": "text/x-python",
   "name": "python",
   "nbconvert_exporter": "python",
   "pygments_lexer": "ipython3",
   "version": "3.6.9"
  }
 },
 "nbformat": 4,
 "nbformat_minor": 4
}
